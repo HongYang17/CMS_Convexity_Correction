{
 "cells": [
  {
   "cell_type": "markdown",
   "metadata": {
    "id": "ODvigAgU_-de"
   },
   "source": [
    "<font size=\"+3\">Part III - Convexity Correction</font>\n",
    "\n",
    "| Name             | Student ID |\n",
    "|------------------|------------|\n",
    "| Hong Yang | [01502068]  |\n",
    "| Myat   | [01520414]|"
   ]
  },
  {
   "cell_type": "markdown",
   "metadata": {},
   "source": [
    "## Table of Contents\n",
    "\n",
    "[Data Preparation](#data-preparation)  \n",
    "[Models](#models)  \n",
    "&nbsp;&nbsp;&nbsp;&nbsp;• [SABR Volatility Calculation](#sabr-volatility-calculation)  \n",
    "&nbsp;&nbsp;&nbsp;&nbsp;• [Forward Swap Rate Computation](#forward-swap-rate-computation)  \n",
    "&nbsp;&nbsp;&nbsp;&nbsp;• [CMS Convexity Adjustment](#cms-convexity-adjustment)  \n",
    "&nbsp;&nbsp;&nbsp;&nbsp;• [Black76](#black76)  \n",
    "&nbsp;&nbsp;&nbsp;&nbsp;• [CMS Rate via Static Replication (Carr-Madan Formula)](#cms-rate-via-static-replication-carr-madan-formula)  \n",
    "&nbsp;&nbsp;&nbsp;&nbsp;&nbsp;&nbsp;&nbsp;&nbsp;• [General Formula for CMS Leg PV](#general-formula-for-cms-leg-pv)  \n",
    "\n",
    "[Question 1](#question-1)  \n",
    "&nbsp;&nbsp;&nbsp;&nbsp;• [Calculate PV of](#calculate-pv-of)  \n",
    "\n",
    "[Question 2](#question-2)  \n",
    "&nbsp;&nbsp;&nbsp;&nbsp;• [Compare the forward swap rates with the CMS rate](#compare-the-forward-swap-rates-with-the-cms-rate)\n"
   ]
  },
  {
   "cell_type": "code",
   "execution_count": 1,
   "metadata": {
    "id": "VkLY14ipFHeq"
   },
   "outputs": [],
   "source": [
    "import pandas as pd\n",
    "import numpy as np\n",
    "import matplotlib.pyplot as plt\n",
    "from math import exp, log, sqrt\n",
    "from scipy.integrate import quad\n",
    "from scipy.interpolate import RectBivariateSpline\n",
    "from scipy.stats import norm\n",
    "import warnings\n",
    "warnings.filterwarnings(\"ignore\")"
   ]
  },
  {
   "cell_type": "code",
   "execution_count": 2,
   "metadata": {
    "id": "LOEFrh0WCO3F"
   },
   "outputs": [],
   "source": [
    "# from google.colab import drive\n",
    "# drive.mount('/content/drive')\n",
    "# !ls /content/drive/MyDrive"
   ]
  },
  {
   "cell_type": "markdown",
   "metadata": {
    "id": "pfrscO0jAa5P"
   },
   "source": [
    "# Data Preparation"
   ]
  },
  {
   "cell_type": "code",
   "execution_count": 3,
   "metadata": {
    "colab": {
     "base_uri": "https://localhost:8080/",
     "height": 454
    },
    "id": "sbZ3WxZpTkt6",
    "outputId": "fe88dd18-c147-42a3-afe8-ec8afab458f2"
   },
   "outputs": [
    {
     "data": {
      "text/html": [
       "<div>\n",
       "<style scoped>\n",
       "    .dataframe tbody tr th:only-of-type {\n",
       "        vertical-align: middle;\n",
       "    }\n",
       "\n",
       "    .dataframe tbody tr th {\n",
       "        vertical-align: top;\n",
       "    }\n",
       "\n",
       "    .dataframe thead th {\n",
       "        text-align: right;\n",
       "    }\n",
       "</style>\n",
       "<table border=\"1\" class=\"dataframe\">\n",
       "  <thead>\n",
       "    <tr style=\"text-align: right;\">\n",
       "      <th></th>\n",
       "      <th>Tenor</th>\n",
       "      <th>OIS Discount Factor</th>\n",
       "      <th>LIBOR Discount Factor</th>\n",
       "    </tr>\n",
       "  </thead>\n",
       "  <tbody>\n",
       "    <tr>\n",
       "      <th>0</th>\n",
       "      <td>0.5</td>\n",
       "      <td>0.998752</td>\n",
       "      <td>0.987654</td>\n",
       "    </tr>\n",
       "    <tr>\n",
       "      <th>1</th>\n",
       "      <td>1.0</td>\n",
       "      <td>0.997009</td>\n",
       "      <td>0.972577</td>\n",
       "    </tr>\n",
       "    <tr>\n",
       "      <th>2</th>\n",
       "      <td>1.5</td>\n",
       "      <td>0.995270</td>\n",
       "      <td>0.957378</td>\n",
       "    </tr>\n",
       "    <tr>\n",
       "      <th>3</th>\n",
       "      <td>2.0</td>\n",
       "      <td>0.993531</td>\n",
       "      <td>0.942179</td>\n",
       "    </tr>\n",
       "    <tr>\n",
       "      <th>4</th>\n",
       "      <td>2.5</td>\n",
       "      <td>0.991773</td>\n",
       "      <td>0.926330</td>\n",
       "    </tr>\n",
       "    <tr>\n",
       "      <th>5</th>\n",
       "      <td>3.0</td>\n",
       "      <td>0.990015</td>\n",
       "      <td>0.910482</td>\n",
       "    </tr>\n",
       "    <tr>\n",
       "      <th>6</th>\n",
       "      <td>3.5</td>\n",
       "      <td>0.988066</td>\n",
       "      <td>0.894731</td>\n",
       "    </tr>\n",
       "    <tr>\n",
       "      <th>7</th>\n",
       "      <td>4.0</td>\n",
       "      <td>0.986117</td>\n",
       "      <td>0.878981</td>\n",
       "    </tr>\n",
       "    <tr>\n",
       "      <th>8</th>\n",
       "      <td>4.5</td>\n",
       "      <td>0.984150</td>\n",
       "      <td>0.863985</td>\n",
       "    </tr>\n",
       "    <tr>\n",
       "      <th>9</th>\n",
       "      <td>5.0</td>\n",
       "      <td>0.982184</td>\n",
       "      <td>0.848989</td>\n",
       "    </tr>\n",
       "    <tr>\n",
       "      <th>10</th>\n",
       "      <td>5.5</td>\n",
       "      <td>0.979740</td>\n",
       "      <td>0.832796</td>\n",
       "    </tr>\n",
       "    <tr>\n",
       "      <th>11</th>\n",
       "      <td>6.0</td>\n",
       "      <td>0.977295</td>\n",
       "      <td>0.816603</td>\n",
       "    </tr>\n",
       "    <tr>\n",
       "      <th>12</th>\n",
       "      <td>6.5</td>\n",
       "      <td>0.974850</td>\n",
       "      <td>0.800409</td>\n",
       "    </tr>\n",
       "    <tr>\n",
       "      <th>13</th>\n",
       "      <td>7.0</td>\n",
       "      <td>0.972406</td>\n",
       "      <td>0.784216</td>\n",
       "    </tr>\n",
       "    <tr>\n",
       "      <th>14</th>\n",
       "      <td>7.5</td>\n",
       "      <td>0.969668</td>\n",
       "      <td>0.768965</td>\n",
       "    </tr>\n",
       "    <tr>\n",
       "      <th>15</th>\n",
       "      <td>8.0</td>\n",
       "      <td>0.966929</td>\n",
       "      <td>0.753714</td>\n",
       "    </tr>\n",
       "    <tr>\n",
       "      <th>16</th>\n",
       "      <td>8.5</td>\n",
       "      <td>0.964191</td>\n",
       "      <td>0.738463</td>\n",
       "    </tr>\n",
       "    <tr>\n",
       "      <th>17</th>\n",
       "      <td>9.0</td>\n",
       "      <td>0.961453</td>\n",
       "      <td>0.723212</td>\n",
       "    </tr>\n",
       "    <tr>\n",
       "      <th>18</th>\n",
       "      <td>9.5</td>\n",
       "      <td>0.958715</td>\n",
       "      <td>0.707961</td>\n",
       "    </tr>\n",
       "    <tr>\n",
       "      <th>19</th>\n",
       "      <td>10.0</td>\n",
       "      <td>0.955977</td>\n",
       "      <td>0.692710</td>\n",
       "    </tr>\n",
       "    <tr>\n",
       "      <th>20</th>\n",
       "      <td>10.5</td>\n",
       "      <td>0.953140</td>\n",
       "      <td>0.678547</td>\n",
       "    </tr>\n",
       "    <tr>\n",
       "      <th>21</th>\n",
       "      <td>11.0</td>\n",
       "      <td>0.950304</td>\n",
       "      <td>0.664384</td>\n",
       "    </tr>\n",
       "    <tr>\n",
       "      <th>22</th>\n",
       "      <td>11.5</td>\n",
       "      <td>0.947467</td>\n",
       "      <td>0.650221</td>\n",
       "    </tr>\n",
       "    <tr>\n",
       "      <th>23</th>\n",
       "      <td>12.0</td>\n",
       "      <td>0.944631</td>\n",
       "      <td>0.636058</td>\n",
       "    </tr>\n",
       "    <tr>\n",
       "      <th>24</th>\n",
       "      <td>12.5</td>\n",
       "      <td>0.941794</td>\n",
       "      <td>0.621896</td>\n",
       "    </tr>\n",
       "    <tr>\n",
       "      <th>25</th>\n",
       "      <td>13.0</td>\n",
       "      <td>0.938958</td>\n",
       "      <td>0.607733</td>\n",
       "    </tr>\n",
       "    <tr>\n",
       "      <th>26</th>\n",
       "      <td>13.5</td>\n",
       "      <td>0.936121</td>\n",
       "      <td>0.593570</td>\n",
       "    </tr>\n",
       "    <tr>\n",
       "      <th>27</th>\n",
       "      <td>14.0</td>\n",
       "      <td>0.933285</td>\n",
       "      <td>0.579407</td>\n",
       "    </tr>\n",
       "    <tr>\n",
       "      <th>28</th>\n",
       "      <td>14.5</td>\n",
       "      <td>0.930448</td>\n",
       "      <td>0.565244</td>\n",
       "    </tr>\n",
       "    <tr>\n",
       "      <th>29</th>\n",
       "      <td>15.0</td>\n",
       "      <td>0.927611</td>\n",
       "      <td>0.551081</td>\n",
       "    </tr>\n",
       "    <tr>\n",
       "      <th>30</th>\n",
       "      <td>15.5</td>\n",
       "      <td>0.924858</td>\n",
       "      <td>0.536794</td>\n",
       "    </tr>\n",
       "    <tr>\n",
       "      <th>31</th>\n",
       "      <td>16.0</td>\n",
       "      <td>0.922104</td>\n",
       "      <td>0.522508</td>\n",
       "    </tr>\n",
       "    <tr>\n",
       "      <th>32</th>\n",
       "      <td>16.5</td>\n",
       "      <td>0.919351</td>\n",
       "      <td>0.508222</td>\n",
       "    </tr>\n",
       "    <tr>\n",
       "      <th>33</th>\n",
       "      <td>17.0</td>\n",
       "      <td>0.916597</td>\n",
       "      <td>0.493935</td>\n",
       "    </tr>\n",
       "    <tr>\n",
       "      <th>34</th>\n",
       "      <td>17.5</td>\n",
       "      <td>0.913844</td>\n",
       "      <td>0.479649</td>\n",
       "    </tr>\n",
       "    <tr>\n",
       "      <th>35</th>\n",
       "      <td>18.0</td>\n",
       "      <td>0.911090</td>\n",
       "      <td>0.465363</td>\n",
       "    </tr>\n",
       "    <tr>\n",
       "      <th>36</th>\n",
       "      <td>18.5</td>\n",
       "      <td>0.908337</td>\n",
       "      <td>0.451077</td>\n",
       "    </tr>\n",
       "    <tr>\n",
       "      <th>37</th>\n",
       "      <td>19.0</td>\n",
       "      <td>0.905583</td>\n",
       "      <td>0.436790</td>\n",
       "    </tr>\n",
       "    <tr>\n",
       "      <th>38</th>\n",
       "      <td>19.5</td>\n",
       "      <td>0.902829</td>\n",
       "      <td>0.422504</td>\n",
       "    </tr>\n",
       "    <tr>\n",
       "      <th>39</th>\n",
       "      <td>20.0</td>\n",
       "      <td>0.900076</td>\n",
       "      <td>0.408218</td>\n",
       "    </tr>\n",
       "    <tr>\n",
       "      <th>40</th>\n",
       "      <td>20.5</td>\n",
       "      <td>0.897442</td>\n",
       "      <td>0.398990</td>\n",
       "    </tr>\n",
       "    <tr>\n",
       "      <th>41</th>\n",
       "      <td>21.0</td>\n",
       "      <td>0.894809</td>\n",
       "      <td>0.389762</td>\n",
       "    </tr>\n",
       "    <tr>\n",
       "      <th>42</th>\n",
       "      <td>21.5</td>\n",
       "      <td>0.892176</td>\n",
       "      <td>0.380534</td>\n",
       "    </tr>\n",
       "    <tr>\n",
       "      <th>43</th>\n",
       "      <td>22.0</td>\n",
       "      <td>0.889542</td>\n",
       "      <td>0.371307</td>\n",
       "    </tr>\n",
       "    <tr>\n",
       "      <th>44</th>\n",
       "      <td>22.5</td>\n",
       "      <td>0.886909</td>\n",
       "      <td>0.362079</td>\n",
       "    </tr>\n",
       "    <tr>\n",
       "      <th>45</th>\n",
       "      <td>23.0</td>\n",
       "      <td>0.884275</td>\n",
       "      <td>0.352851</td>\n",
       "    </tr>\n",
       "    <tr>\n",
       "      <th>46</th>\n",
       "      <td>23.5</td>\n",
       "      <td>0.881642</td>\n",
       "      <td>0.343623</td>\n",
       "    </tr>\n",
       "    <tr>\n",
       "      <th>47</th>\n",
       "      <td>24.0</td>\n",
       "      <td>0.879008</td>\n",
       "      <td>0.334396</td>\n",
       "    </tr>\n",
       "    <tr>\n",
       "      <th>48</th>\n",
       "      <td>24.5</td>\n",
       "      <td>0.876375</td>\n",
       "      <td>0.325168</td>\n",
       "    </tr>\n",
       "    <tr>\n",
       "      <th>49</th>\n",
       "      <td>25.0</td>\n",
       "      <td>0.873741</td>\n",
       "      <td>0.315940</td>\n",
       "    </tr>\n",
       "    <tr>\n",
       "      <th>50</th>\n",
       "      <td>25.5</td>\n",
       "      <td>0.871108</td>\n",
       "      <td>0.306712</td>\n",
       "    </tr>\n",
       "    <tr>\n",
       "      <th>51</th>\n",
       "      <td>26.0</td>\n",
       "      <td>0.868474</td>\n",
       "      <td>0.297484</td>\n",
       "    </tr>\n",
       "    <tr>\n",
       "      <th>52</th>\n",
       "      <td>26.5</td>\n",
       "      <td>0.865841</td>\n",
       "      <td>0.288257</td>\n",
       "    </tr>\n",
       "    <tr>\n",
       "      <th>53</th>\n",
       "      <td>27.0</td>\n",
       "      <td>0.863207</td>\n",
       "      <td>0.279029</td>\n",
       "    </tr>\n",
       "    <tr>\n",
       "      <th>54</th>\n",
       "      <td>27.5</td>\n",
       "      <td>0.860574</td>\n",
       "      <td>0.269801</td>\n",
       "    </tr>\n",
       "    <tr>\n",
       "      <th>55</th>\n",
       "      <td>28.0</td>\n",
       "      <td>0.857941</td>\n",
       "      <td>0.260573</td>\n",
       "    </tr>\n",
       "    <tr>\n",
       "      <th>56</th>\n",
       "      <td>28.5</td>\n",
       "      <td>0.855307</td>\n",
       "      <td>0.251346</td>\n",
       "    </tr>\n",
       "    <tr>\n",
       "      <th>57</th>\n",
       "      <td>29.0</td>\n",
       "      <td>0.852674</td>\n",
       "      <td>0.242118</td>\n",
       "    </tr>\n",
       "    <tr>\n",
       "      <th>58</th>\n",
       "      <td>29.5</td>\n",
       "      <td>0.850040</td>\n",
       "      <td>0.232890</td>\n",
       "    </tr>\n",
       "    <tr>\n",
       "      <th>59</th>\n",
       "      <td>30.0</td>\n",
       "      <td>0.847407</td>\n",
       "      <td>0.223662</td>\n",
       "    </tr>\n",
       "  </tbody>\n",
       "</table>\n",
       "</div>"
      ],
      "text/plain": [
       "    Tenor  OIS Discount Factor  LIBOR Discount Factor\n",
       "0     0.5             0.998752               0.987654\n",
       "1     1.0             0.997009               0.972577\n",
       "2     1.5             0.995270               0.957378\n",
       "3     2.0             0.993531               0.942179\n",
       "4     2.5             0.991773               0.926330\n",
       "5     3.0             0.990015               0.910482\n",
       "6     3.5             0.988066               0.894731\n",
       "7     4.0             0.986117               0.878981\n",
       "8     4.5             0.984150               0.863985\n",
       "9     5.0             0.982184               0.848989\n",
       "10    5.5             0.979740               0.832796\n",
       "11    6.0             0.977295               0.816603\n",
       "12    6.5             0.974850               0.800409\n",
       "13    7.0             0.972406               0.784216\n",
       "14    7.5             0.969668               0.768965\n",
       "15    8.0             0.966929               0.753714\n",
       "16    8.5             0.964191               0.738463\n",
       "17    9.0             0.961453               0.723212\n",
       "18    9.5             0.958715               0.707961\n",
       "19   10.0             0.955977               0.692710\n",
       "20   10.5             0.953140               0.678547\n",
       "21   11.0             0.950304               0.664384\n",
       "22   11.5             0.947467               0.650221\n",
       "23   12.0             0.944631               0.636058\n",
       "24   12.5             0.941794               0.621896\n",
       "25   13.0             0.938958               0.607733\n",
       "26   13.5             0.936121               0.593570\n",
       "27   14.0             0.933285               0.579407\n",
       "28   14.5             0.930448               0.565244\n",
       "29   15.0             0.927611               0.551081\n",
       "30   15.5             0.924858               0.536794\n",
       "31   16.0             0.922104               0.522508\n",
       "32   16.5             0.919351               0.508222\n",
       "33   17.0             0.916597               0.493935\n",
       "34   17.5             0.913844               0.479649\n",
       "35   18.0             0.911090               0.465363\n",
       "36   18.5             0.908337               0.451077\n",
       "37   19.0             0.905583               0.436790\n",
       "38   19.5             0.902829               0.422504\n",
       "39   20.0             0.900076               0.408218\n",
       "40   20.5             0.897442               0.398990\n",
       "41   21.0             0.894809               0.389762\n",
       "42   21.5             0.892176               0.380534\n",
       "43   22.0             0.889542               0.371307\n",
       "44   22.5             0.886909               0.362079\n",
       "45   23.0             0.884275               0.352851\n",
       "46   23.5             0.881642               0.343623\n",
       "47   24.0             0.879008               0.334396\n",
       "48   24.5             0.876375               0.325168\n",
       "49   25.0             0.873741               0.315940\n",
       "50   25.5             0.871108               0.306712\n",
       "51   26.0             0.868474               0.297484\n",
       "52   26.5             0.865841               0.288257\n",
       "53   27.0             0.863207               0.279029\n",
       "54   27.5             0.860574               0.269801\n",
       "55   28.0             0.857941               0.260573\n",
       "56   28.5             0.855307               0.251346\n",
       "57   29.0             0.852674               0.242118\n",
       "58   29.5             0.850040               0.232890\n",
       "59   30.0             0.847407               0.223662"
      ]
     },
     "execution_count": 3,
     "metadata": {},
     "output_type": "execute_result"
    }
   ],
   "source": [
    "# Load discount factors and retain needed columns\n",
    "disc_df = pd.read_csv('Discount_Factor.csv')\n",
    "disc_df = disc_df[[\"Tenor\", \"OIS Discount Factor\", \"LIBOR Discount Factor\"]].copy()\n",
    "disc_df"
   ]
  },
  {
   "cell_type": "code",
   "execution_count": 4,
   "metadata": {
    "id": "-h0NMysqGryk"
   },
   "outputs": [
    {
     "data": {
      "text/html": [
       "<div>\n",
       "<style scoped>\n",
       "    .dataframe tbody tr th:only-of-type {\n",
       "        vertical-align: middle;\n",
       "    }\n",
       "\n",
       "    .dataframe tbody tr th {\n",
       "        vertical-align: top;\n",
       "    }\n",
       "\n",
       "    .dataframe thead th {\n",
       "        text-align: right;\n",
       "    }\n",
       "</style>\n",
       "<table border=\"1\" class=\"dataframe\">\n",
       "  <thead>\n",
       "    <tr style=\"text-align: right;\">\n",
       "      <th></th>\n",
       "      <th>Expiry</th>\n",
       "      <th>Tenor</th>\n",
       "      <th>Alpha</th>\n",
       "      <th>Rho</th>\n",
       "      <th>Nu</th>\n",
       "      <th>Beta</th>\n",
       "      <th>Sigma</th>\n",
       "    </tr>\n",
       "  </thead>\n",
       "  <tbody>\n",
       "    <tr>\n",
       "      <th>0</th>\n",
       "      <td>10Y</td>\n",
       "      <td>10Y</td>\n",
       "      <td>0.164053</td>\n",
       "      <td>-0.408621</td>\n",
       "      <td>0.594677</td>\n",
       "      <td>4.438215e-03</td>\n",
       "      <td>0.2437</td>\n",
       "    </tr>\n",
       "    <tr>\n",
       "      <th>1</th>\n",
       "      <td>10Y</td>\n",
       "      <td>1Y</td>\n",
       "      <td>0.175114</td>\n",
       "      <td>-0.537352</td>\n",
       "      <td>0.997865</td>\n",
       "      <td>9.032897e-10</td>\n",
       "      <td>0.2854</td>\n",
       "    </tr>\n",
       "    <tr>\n",
       "      <th>2</th>\n",
       "      <td>10Y</td>\n",
       "      <td>2Y</td>\n",
       "      <td>0.190314</td>\n",
       "      <td>-0.528510</td>\n",
       "      <td>0.910997</td>\n",
       "      <td>9.921111e-08</td>\n",
       "      <td>0.2928</td>\n",
       "    </tr>\n",
       "    <tr>\n",
       "      <th>3</th>\n",
       "      <td>10Y</td>\n",
       "      <td>3Y</td>\n",
       "      <td>0.202318</td>\n",
       "      <td>-0.537342</td>\n",
       "      <td>0.857740</td>\n",
       "      <td>1.976872e-06</td>\n",
       "      <td>0.2940</td>\n",
       "    </tr>\n",
       "    <tr>\n",
       "      <th>4</th>\n",
       "      <td>10Y</td>\n",
       "      <td>5Y</td>\n",
       "      <td>0.183878</td>\n",
       "      <td>-0.500070</td>\n",
       "      <td>0.706850</td>\n",
       "      <td>2.428992e-05</td>\n",
       "      <td>0.2674</td>\n",
       "    </tr>\n",
       "  </tbody>\n",
       "</table>\n",
       "</div>"
      ],
      "text/plain": [
       "  Expiry Tenor     Alpha       Rho        Nu          Beta   Sigma\n",
       "0    10Y   10Y  0.164053 -0.408621  0.594677  4.438215e-03  0.2437\n",
       "1    10Y    1Y  0.175114 -0.537352  0.997865  9.032897e-10  0.2854\n",
       "2    10Y    2Y  0.190314 -0.528510  0.910997  9.921111e-08  0.2928\n",
       "3    10Y    3Y  0.202318 -0.537342  0.857740  1.976872e-06  0.2940\n",
       "4    10Y    5Y  0.183878 -0.500070  0.706850  2.428992e-05  0.2674"
      ]
     },
     "execution_count": 4,
     "metadata": {},
     "output_type": "execute_result"
    }
   ],
   "source": [
    "sabr_df = pd.read_csv('calibrated_params.csv')\n",
    "sabr_df.sort_values(by = \"Expiry\", ascending = True, inplace = True)\n",
    "sabr_df.head()"
   ]
  },
  {
   "cell_type": "code",
   "execution_count": 5,
   "metadata": {
    "id": "sDxhPZw5FzGj"
   },
   "outputs": [
    {
     "data": {
      "text/html": [
       "<div>\n",
       "<style scoped>\n",
       "    .dataframe tbody tr th:only-of-type {\n",
       "        vertical-align: middle;\n",
       "    }\n",
       "\n",
       "    .dataframe tbody tr th {\n",
       "        vertical-align: top;\n",
       "    }\n",
       "\n",
       "    .dataframe thead th {\n",
       "        text-align: right;\n",
       "    }\n",
       "</style>\n",
       "<table border=\"1\" class=\"dataframe\">\n",
       "  <thead>\n",
       "    <tr style=\"text-align: right;\">\n",
       "      <th></th>\n",
       "      <th>Expiry</th>\n",
       "      <th>1Y</th>\n",
       "      <th>2Y</th>\n",
       "      <th>3Y</th>\n",
       "      <th>5Y</th>\n",
       "      <th>10Y</th>\n",
       "    </tr>\n",
       "  </thead>\n",
       "  <tbody>\n",
       "    <tr>\n",
       "      <th>0</th>\n",
       "      <td>1Y</td>\n",
       "      <td>0.032007</td>\n",
       "      <td>0.033259</td>\n",
       "      <td>0.034011</td>\n",
       "      <td>0.035255</td>\n",
       "      <td>0.038428</td>\n",
       "    </tr>\n",
       "    <tr>\n",
       "      <th>1</th>\n",
       "      <td>5Y</td>\n",
       "      <td>0.039274</td>\n",
       "      <td>0.040075</td>\n",
       "      <td>0.040072</td>\n",
       "      <td>0.041093</td>\n",
       "      <td>0.043634</td>\n",
       "    </tr>\n",
       "    <tr>\n",
       "      <th>2</th>\n",
       "      <td>10Y</td>\n",
       "      <td>0.042189</td>\n",
       "      <td>0.043116</td>\n",
       "      <td>0.044097</td>\n",
       "      <td>0.046249</td>\n",
       "      <td>0.053458</td>\n",
       "    </tr>\n",
       "  </tbody>\n",
       "</table>\n",
       "</div>"
      ],
      "text/plain": [
       "  Expiry        1Y        2Y        3Y        5Y       10Y\n",
       "0     1Y  0.032007  0.033259  0.034011  0.035255  0.038428\n",
       "1     5Y  0.039274  0.040075  0.040072  0.041093  0.043634\n",
       "2    10Y  0.042189  0.043116  0.044097  0.046249  0.053458"
      ]
     },
     "execution_count": 5,
     "metadata": {},
     "output_type": "execute_result"
    }
   ],
   "source": [
    "forward_swap_rate= pd.read_csv('Forward_Swap_Rate.csv').rename(columns={\"Unnamed: 0\": \"Expiry\"})\n",
    "forward_swap_rate.head()"
   ]
  },
  {
   "cell_type": "code",
   "execution_count": 6,
   "metadata": {
    "id": "D2zVqIIFY_7E"
   },
   "outputs": [],
   "source": [
    "def parse_tenor(tenor_str):\n",
    "    tenor_str = str(tenor_str).strip().lower()\n",
    "    if tenor_str.endswith(\"y\"):\n",
    "        return float(tenor_str[:-1])\n",
    "    elif tenor_str.endswith(\"m\"):\n",
    "        return float(tenor_str[:-1]) / 12\n",
    "    return float(\"nan\")\n",
    "\n",
    "# Apply to Expiry and Tenor\n",
    "sabr_df[\"Expiry\"] = sabr_df[\"Expiry\"].apply(parse_tenor)\n",
    "sabr_df[\"Tenor\"] = sabr_df[\"Tenor\"].apply(parse_tenor)\n",
    "\n",
    "# Now pivot to get Alpha, Rho, and Nu into 2D format\n",
    "alpha_df = sabr_df.pivot(index=\"Expiry\", columns=\"Tenor\", values=\"Alpha\")\n",
    "rho_df   = sabr_df.pivot(index=\"Expiry\", columns=\"Tenor\", values=\"Rho\")\n",
    "nu_df    = sabr_df.pivot(index=\"Expiry\", columns=\"Tenor\", values=\"Nu\")"
   ]
  },
  {
   "cell_type": "code",
   "execution_count": 7,
   "metadata": {
    "id": "ALkLNcfvcEZC"
   },
   "outputs": [
    {
     "data": {
      "text/html": [
       "<div>\n",
       "<style scoped>\n",
       "    .dataframe tbody tr th:only-of-type {\n",
       "        vertical-align: middle;\n",
       "    }\n",
       "\n",
       "    .dataframe tbody tr th {\n",
       "        vertical-align: top;\n",
       "    }\n",
       "\n",
       "    .dataframe thead th {\n",
       "        text-align: right;\n",
       "    }\n",
       "</style>\n",
       "<table border=\"1\" class=\"dataframe\">\n",
       "  <thead>\n",
       "    <tr style=\"text-align: right;\">\n",
       "      <th>Tenor</th>\n",
       "      <th>1.0</th>\n",
       "      <th>2.0</th>\n",
       "      <th>3.0</th>\n",
       "      <th>5.0</th>\n",
       "      <th>10.0</th>\n",
       "    </tr>\n",
       "    <tr>\n",
       "      <th>Expiry</th>\n",
       "      <th></th>\n",
       "      <th></th>\n",
       "      <th></th>\n",
       "      <th></th>\n",
       "      <th></th>\n",
       "    </tr>\n",
       "  </thead>\n",
       "  <tbody>\n",
       "    <tr>\n",
       "      <th>1.0</th>\n",
       "      <td>0.139065</td>\n",
       "      <td>0.184646</td>\n",
       "      <td>0.196851</td>\n",
       "      <td>0.177962</td>\n",
       "      <td>0.170893</td>\n",
       "    </tr>\n",
       "    <tr>\n",
       "      <th>5.0</th>\n",
       "      <td>0.166453</td>\n",
       "      <td>0.198759</td>\n",
       "      <td>0.208171</td>\n",
       "      <td>0.189468</td>\n",
       "      <td>0.169909</td>\n",
       "    </tr>\n",
       "    <tr>\n",
       "      <th>10.0</th>\n",
       "      <td>0.175114</td>\n",
       "      <td>0.190314</td>\n",
       "      <td>0.202318</td>\n",
       "      <td>0.183878</td>\n",
       "      <td>0.164053</td>\n",
       "    </tr>\n",
       "  </tbody>\n",
       "</table>\n",
       "</div>"
      ],
      "text/plain": [
       "Tenor       1.0       2.0       3.0       5.0       10.0\n",
       "Expiry                                                  \n",
       "1.0     0.139065  0.184646  0.196851  0.177962  0.170893\n",
       "5.0     0.166453  0.198759  0.208171  0.189468  0.169909\n",
       "10.0    0.175114  0.190314  0.202318  0.183878  0.164053"
      ]
     },
     "execution_count": 7,
     "metadata": {},
     "output_type": "execute_result"
    }
   ],
   "source": [
    "alpha_df"
   ]
  },
  {
   "cell_type": "markdown",
   "metadata": {},
   "source": [
    ">Discount Factor Interpolation"
   ]
  },
  {
   "cell_type": "code",
   "execution_count": 8,
   "metadata": {
    "id": "v0dqsojidV3x"
   },
   "outputs": [],
   "source": [
    "def libor_df(t):\n",
    "    tenors = disc_df['Tenor'].values\n",
    "    values = disc_df['LIBOR Discount Factor'].values\n",
    "    return np.interp(t, tenors, values)\n",
    "\n",
    "def ois_df(t):\n",
    "    tenors = disc_df['Tenor'].values\n",
    "    values = disc_df['OIS Discount Factor'].values\n",
    "    return np.interp(t, tenors, values)\n"
   ]
  },
  {
   "cell_type": "markdown",
   "metadata": {
    "id": "cgfZqywIhSK7"
   },
   "source": [
    ">SABR parameters Interpolation: 2D Parameter Interpolation using RectBivariateSpline"
   ]
  },
  {
   "cell_type": "code",
   "execution_count": 9,
   "metadata": {
    "id": "ZcYR6yDtdYGB"
   },
   "outputs": [],
   "source": [
    "def param_interp(expiry, tenor, df_param):\n",
    "    # Use quadratic interpolation (kx=2, ky=2) because there are only 3 expiry points.\n",
    "    exp_vals = df_param.index.values.astype(float)\n",
    "    tenor_vals = np.array(list(df_param.columns), dtype=float)\n",
    "    spline = RectBivariateSpline(exp_vals, tenor_vals, df_param.values, kx=2, ky=2)\n",
    "    return float(spline(expiry, tenor))\n"
   ]
  },
  {
   "cell_type": "markdown",
   "metadata": {
    "id": "APlVJ0DHAgCx"
   },
   "source": [
    "# Models"
   ]
  },
  {
   "cell_type": "markdown",
   "metadata": {
    "id": "Gm8ZwIxDBrKz"
   },
   "source": [
    "## SABR Volatility Calculation"
   ]
  },
  {
   "cell_type": "markdown",
   "metadata": {
    "id": "xOsu5UbtMQpL"
   },
   "source": [
    "First, we shall implement the SABR model. The implied Black volatility of the SABR model is given by\n",
    "  \\begin{equation*}\n",
    "    \\begin{split}\n",
    "      &\\sigma_{\\mbox{SABR}}(F_0, K, \\alpha, \\beta, \\rho, \\nu) \\\\\n",
    "      &= \\frac{\\alpha}{(F_0K)^{(1-\\beta)/2}\\left\\{ 1 + \\frac{(1-\\beta)^2}{24}\\log^2\\left(\\frac{F_0}{K}\\right) + \\frac{(1-\\beta)^4}{1920}\\log^4\\left(\\frac{F_0}{K}\\right) + \\cdots\\right\\} } \\\\\n",
    "      &\\;\\;\\;\\times \\frac{z}{x(z)} \\times \\left\\{ 1 + \\left[\n",
    "          \\frac{(1-\\beta)^2}{24}\n",
    "          \\frac{\\alpha^2}{(F_0K)^{1-\\beta}}+\\frac{1}{4}\\frac{\\rho\\beta\\nu\\alpha}{(F_0K)^{(1-\\beta)/2}}+\\frac{2-3\\rho^2}{24}\\nu^2\\right]\n",
    "        T + \\cdots \\right.\n",
    "    \\end{split}\n",
    "  \\end{equation*}\n",
    "  where\n",
    "  \\begin{equation*}\n",
    "    \\begin{split}\n",
    "      z = \\frac{\\nu}{\\alpha} (F_0K)^{(1-\\beta)/2}\n",
    "      \\log\\left(\\frac{F_0}{K}\\right),\n",
    "    \\end{split}\n",
    "  \\end{equation*}\n",
    "  and\n",
    "  \\begin{equation*}\n",
    "    \\begin{split}\n",
    "      x(z) = \\log \\left[ \\frac{\\sqrt{1-2\\rho z+z^2}+z -\\rho}{1-\\rho}\n",
    "      \\right].\n",
    "    \\end{split}\n",
    "  \\end{equation*}\n",
    "\n"
   ]
  },
  {
   "cell_type": "markdown",
   "metadata": {},
   "source": [
    "To plot the implied volatility smile for the normal (Bachelier) model, just replaced the \"BlackScholesCall\" with the Bachelier formula.\n",
    "\n",
    "Next, we look at the SABR model. The definition above contains the function\n",
    "\n",
    "\\begin{equation*}\n",
    "\\begin{split}\n",
    "\\mbox{SABR}(F, K, T, \\alpha, \\beta, \\rho, \\nu)\n",
    "\\end{split}\n",
    "\\end{equation*}\n",
    "\n",
    "The function returns a volatility $\\sigma_{\\mbox{SABR}}$ for the Black76Lognormal call or put option formula, so that\n",
    "\n",
    "\\begin{equation*}\n",
    "\\begin{split}\n",
    "\\mbox{Call price} &= \\mbox{BlackScholesCall}(S, K, r, \\sigma_{\\mbox{SABR}}, T) \\\\\n",
    "\\mbox{Put price} &= \\mbox{BlackScholesPut}(S, K, r, \\sigma_{\\mbox{SABR}}, T) \\\\\n",
    "\\end{split}\n",
    "\\end{equation*}\n",
    "\n",
    "How do we determine the parameters $\\alpha$, $\\rho$ and $\\nu$?\n",
    "- We choose them so that the output of the SABR model matches the implied volatilities observed in the market.\n",
    "- We refer to this process as \"model calibration\".\n",
    "\n",
    "In other words, defining\n",
    "\n",
    "  \\begin{equation*}\n",
    "    \\begin{split}\n",
    "      \\sigma_{\\mbox{Mkt}}(K_1) - \\mbox{SABR}(F, K_1, T, \\alpha, 0.9, \\rho, \\nu) &= \\epsilon_1 \\\\\n",
    "      \\sigma_{\\mbox{Mkt}}(K_2) - \\mbox{SABR}(F, K_2, T, \\alpha, 0.9, \\rho, \\nu) &= \\epsilon_2 \\\\\n",
    "      \\vdots&\\\\\n",
    "      \\sigma_{\\mbox{Mkt}}(K_n) - \\mbox{SABR}(F, K_n, T, \\alpha, 0.9, \\rho, \\nu) &= \\epsilon_n \\\\\n",
    "    \\end{split}\n",
    "  \\end{equation*}\n",
    "\n",
    "We want to minimize the sum of squared error terms as follows:\n",
    "  \n",
    "  \\begin{equation*}\n",
    "    \\begin{split}\n",
    "      \\min_{\\substack{\\alpha,\\; \\rho,\\; \\nu}} \\;\\sum_{i=1}^n \\epsilon_i^2\n",
    "    \\end{split}\n",
    "  \\end{equation*}\n",
    "\n",
    "We use the \"least_squares\" algorithm in \"scipy\" package to calibrate the SABR model parameters:\n"
   ]
  },
  {
   "cell_type": "code",
   "execution_count": 10,
   "metadata": {
    "id": "LzoF7pU6daBT"
   },
   "outputs": [],
   "source": [
    "def sabr_implied_vol(F, K, T, alpha, beta, rho, nu):\n",
    "    \"\"\"\n",
    "    Compute the SABR model implied volatility given market inputs.\n",
    "\n",
    "    Parameters:\n",
    "        F (float): Forward rate.\n",
    "        K (float): Strike rate.\n",
    "        T (float): Time to maturity (years).\n",
    "        alpha (float): SABR alpha parameter.\n",
    "        beta (float): SABR beta parameter.\n",
    "        rho (float): SABR rho parameter.\n",
    "        nu (float): SABR nu parameter (volatility of volatility).\n",
    "\n",
    "    Returns:\n",
    "        float: Implied volatility computed by the SABR model.\n",
    "    \"\"\"\n",
    "    # Use K directly as X\n",
    "    X = K\n",
    "\n",
    "    # At-the-money (ATM) case\n",
    "    if abs(F - K) < 1e-12:\n",
    "        numer1 = (((1 - beta) ** 2) / 24) * (alpha ** 2) / (F ** (2 - 2 * beta))\n",
    "        numer2 = 0.25 * rho * beta * nu * alpha / (F ** (1 - beta))\n",
    "        numer3 = ((2 - 3 * rho ** 2) / 24) * (nu ** 2)\n",
    "        VolAtm = alpha * (1 + (numer1 + numer2 + numer3) * T) / (F ** (1 - beta))\n",
    "        sabr_sigma = VolAtm\n",
    "    else:\n",
    "        # Non-ATM case: compute the intermediate variables\n",
    "        z = (nu / alpha) * ((F * X) ** (0.5 * (1 - beta))) * np.log(F / X)\n",
    "        zhi = np.log((np.sqrt(1 - 2 * rho * z + z ** 2) + z - rho) / (1 - rho))\n",
    "        numer1 = (((1 - beta) ** 2) / 24) * (alpha ** 2) / ((F * X) ** (1 - beta))\n",
    "        numer2 = 0.25 * rho * beta * nu * alpha / ((F * X) ** ((1 - beta) / 2))\n",
    "        numer3 = ((2 - 3 * rho ** 2) / 24) * (nu ** 2)\n",
    "        numer = alpha * (1 + (numer1 + numer2 + numer3) * T) * z\n",
    "\n",
    "        denom1 = ((1 - beta) ** 2 / 24) * (np.log(F / X)) ** 2\n",
    "        denom2 = (((1 - beta) ** 4) / 1920) * (np.log(F / X)) ** 4\n",
    "        denom = ((F * X) ** ((1 - beta) / 2)) * (1 + denom1 + denom2) * zhi\n",
    "\n",
    "        sabr_sigma = numer / denom\n",
    "\n",
    "    return sabr_sigma\n"
   ]
  },
  {
   "cell_type": "markdown",
   "metadata": {},
   "source": [
    "## Forward Swap Rate Computation"
   ]
  },
  {
   "cell_type": "markdown",
   "metadata": {
    "id": "54mQ5DMdhPG9"
   },
   "source": [
    "1. Floating leg cash flows:\n",
    "\n",
    "- At each payment date $ T_i $, the forward LIBOR rate is approximated using discount factors:\n",
    "$\n",
    "\\text{Fwd L}(T_{i-1}, T_i) \\approx \\frac{1}{\\Delta} \\left( \\frac{DF(T_{i-1}) - DF(T_i)}{DF(T_i)} \\right)\n",
    "$\n",
    "\n",
    "- Multiply this by the OIS discount factor $ OIS(T_i) \\cdot \\Delta $ to get PV.\n",
    "\n",
    "2. $\n",
    "\\text{Fixed leg cash flows}:\n",
    "\\sum_{i=1}^{n} OIS(T_i) \\cdot \\Delta\n",
    "$\n",
    "\n",
    "3. $\n",
    "\\text{Forward Swap Rate} = \\frac{\\text{Floating Leg PV}}{\\text{Fixed Leg PV}}\n",
    "$\n"
   ]
  },
  {
   "cell_type": "code",
   "execution_count": 11,
   "metadata": {
    "id": "iveYvUrMdcaI"
   },
   "outputs": [],
   "source": [
    "def forward_swap(expiry, tenor, delta):\n",
    "    num_periods = int(tenor / delta)\n",
    "    fl_sum = 0.0\n",
    "    fix_sum = 0.0\n",
    "    for i in range(1, num_periods+1):\n",
    "        t = expiry + i * delta\n",
    "        # Compute the forward LIBOR rate from discount factors\n",
    "        fwd_libor = (libor_df(expiry + (i-1)*delta) - libor_df(expiry + i*delta)) / (delta * libor_df(expiry + i*delta))\n",
    "        fl_sum += ois_df(t) * fwd_libor * delta\n",
    "        fix_sum += ois_df(expiry + i*delta) * delta\n",
    "    return float(fl_sum / fix_sum)\n"
   ]
  },
  {
   "cell_type": "markdown",
   "metadata": {
    "id": "-LE8J4q_B-nN"
   },
   "source": [
    "## CMS Convexity Adjustment"
   ]
  },
  {
   "cell_type": "markdown",
   "metadata": {
    "id": "95kcIcR8kfy1"
   },
   "source": [
    ">IRR functions"
   ]
  },
  {
   "cell_type": "code",
   "execution_count": 12,
   "metadata": {
    "id": "lb6vYdDtdeev"
   },
   "outputs": [],
   "source": [
    "def irr_value(T, d, k):\n",
    "    periods = int(T / d)\n",
    "    return sum([d * (1 + k * d)**(-i) for i in range(1, periods+1)])\n",
    "\n",
    "def irr_first(T, d, k):\n",
    "    periods = int(T / d)\n",
    "    return sum([-i * d**2 * (1 + k * d)**(-i-1) for i in range(1, periods+1)])\n",
    "\n",
    "def irr_second(T, d, k):\n",
    "    periods = int(T / d)\n",
    "    return sum([-i*(i+1) * d**3 * (1 + k * d)**(-i-2) for i in range(1, periods+1)])\n",
    "\n",
    "def conv_weight(T, d, k):\n",
    "    irr0 = irr_value(T, d, k)\n",
    "    irr1 = irr_first(T, d, k)\n",
    "    irr2 = irr_second(T, d, k)\n",
    "    return (-irr2*k - 2*irr1) / (irr0**2) + 2*(irr1**2)*k/(irr0**3)\n"
   ]
  },
  {
   "cell_type": "markdown",
   "metadata": {
    "id": "GCUw6V44BwZ-"
   },
   "source": [
    "## Black76"
   ]
  },
  {
   "cell_type": "markdown",
   "metadata": {
    "id": "fuFmxUNdfvH4"
   },
   "source": [
    "> Price European Option"
   ]
  },
  {
   "cell_type": "markdown",
   "metadata": {
    "id": "P9zj2a8_ApDT"
   },
   "source": [
    "*`Black-76 Call`*\n",
    "\n",
    "$$\n",
    "V_{call} = \\left[ F \\Phi(d_1) - K \\Phi(d_2) \\right]\n",
    "$$\n",
    "\n",
    "where:\n",
    "\n",
    "$$\n",
    "d_1 = \\frac{\\ln \\left( \\frac{F}{K} \\right) + \\frac{1}{2} \\sigma^2 T}{\\sigma \\sqrt{T}}\n",
    "$$\n",
    "\n",
    "$$\n",
    "d_2 = d_1 - \\sigma \\sqrt{T}\n",
    "$$\n",
    "\n",
    "*` Black-76 Put Formula `*\n",
    "\n",
    "$$\n",
    "V_{put} = \\left[ K \\Phi(-d_2) - F \\Phi(-d_1) \\right]\n",
    "$$\n",
    "\n",
    "where:\n",
    "\n",
    "$$\n",
    "d_1 = \\frac{\\ln \\left( \\frac{F}{K} \\right) + \\frac{1}{2} \\sigma^2 T}{\\sigma \\sqrt{T}}\n",
    "$$\n",
    "\n",
    "$$\n",
    "d_2 = d_1 - \\sigma \\sqrt{T}\n",
    "$$\n",
    "\n",
    "**Note:**  $\\Phi(\\cdot)$ is the cumulative standard normal distribution function."
   ]
  },
  {
   "cell_type": "code",
   "execution_count": 13,
   "metadata": {
    "id": "L1UJdYwpdgdt"
   },
   "outputs": [],
   "source": [
    "def black76_call(F, K, sigma, T):\n",
    "    \"\"\"\n",
    "    Price a European call option using the Black-76 formula.\n",
    "\n",
    "    Parameters:\n",
    "        F (float): Forward rate.\n",
    "        K (float): Strike rate.\n",
    "        PVBP (float): Present Value of a Basis Point (annuity factor).\n",
    "        sigma (float): Volatility.\n",
    "        T (float): Time to maturity (in years).\n",
    "\n",
    "    Returns:\n",
    "        float: Call option price.\n",
    "    \"\"\"\n",
    "    d1 = (np.log(F / K) + 0.5 * sigma**2 * T) / (sigma * np.sqrt(T))\n",
    "    d2 = d1 - sigma * np.sqrt(T)\n",
    "    return (F * norm.cdf(d1) - K * norm.cdf(d2))\n",
    "\n",
    "def black76_put(F, K, sigma, T):\n",
    "    \"\"\"\n",
    "    Price a European put option using the Black-76 formula.\n",
    "\n",
    "    Parameters:\n",
    "        F (float): Forward rate.\n",
    "        K (float): Strike rate.\n",
    "        PVBP (float): Present Value of a Basis Point (annuity factor).\n",
    "        sigma (float): Volatility.\n",
    "        T (float): Time to maturity (in years).\n",
    "\n",
    "    Returns:\n",
    "        float: Put option price.\n",
    "    \"\"\"\n",
    "    d1 = (np.log(F / K) + 0.5 * sigma**2 * T) / (sigma * np.sqrt(T))\n",
    "    d2 = d1 - sigma * np.sqrt(T)\n",
    "    return (K * norm.cdf(-d2) - F * norm.cdf(-d1))\n",
    "\n",
    "def cms_option_integral(F, K, T, sigma, tenor, delta, opt):\n",
    "    weight = conv_weight(tenor, delta, K)\n",
    "    if str(opt).lower() == 'call':\n",
    "      price = weight * black76_call(F, K, T, sigma)\n",
    "    elif str(opt).lower() == 'put':\n",
    "      price = weight * black76_put(F, K, T, sigma)\n",
    "    return price\n"
   ]
  },
  {
   "cell_type": "markdown",
   "metadata": {
    "id": "q4IMMdhzgPz1"
   },
   "source": [
    "## CMS Rate via Static Replication (Carr-Madan Formula)\n",
    "\n",
    "The CMS rate at time \\( T \\) is given by:\n",
    "\n",
    "$$\n",
    "\\mathbb{E}^{T} \\left[ S_{n,N}(T) \\right] = g(F) + \\frac{1}{D(0,T)} \\left[ \\int_0^F h''(K)V^{rec}(K) \\, dK + \\int_F^\\infty h''(K)V^{pay}(K) \\, dK \\right]\n",
    "$$\n"
   ]
  },
  {
   "cell_type": "code",
   "execution_count": 14,
   "metadata": {
    "id": "-C_Qi91ldjL9"
   },
   "outputs": [],
   "source": [
    "def cms_rate(expiry, tenor, delta):\n",
    "    Fwd = forward_swap(expiry, tenor, delta)\n",
    "    # Interpolate SABR parameters using our 2D spline\n",
    "    a = param_interp(expiry, tenor, alpha_df)\n",
    "    r_val = param_interp(expiry, tenor, rho_df)\n",
    "    v = param_interp(expiry, tenor, nu_df)\n",
    "    # SABR-implied vol for strike K\n",
    "    vol_K = lambda K: sabr_implied_vol(Fwd, K, expiry, a, 0.9, r_val, v)\n",
    "\n",
    "    eps = 1e-6\n",
    "    # Integrate put component from eps to Fwd\n",
    "    put_adj, _ = quad(lambda K: cms_option_integral(Fwd, K, expiry, vol_K(K), tenor, delta, 'Put'),\n",
    "                      eps, Fwd)\n",
    "    # Integrate call component from Fwd to an upper limit (e.g., 1.1*Fwd)\n",
    "    call_adj, _ = quad(lambda K: cms_option_integral(Fwd, K, expiry, vol_K(K), tenor, delta, 'Call'),\n",
    "                       Fwd, Fwd*1.1)\n",
    "    return Fwd + put_adj + call_adj\n"
   ]
  },
  {
   "cell_type": "markdown",
   "metadata": {
    "id": "OChQ4UsJAqoD"
   },
   "source": [
    "## General Formula for CMS Leg PV:\n",
    "\n",
    "$$\n",
    "\\text{PV}_{\\text{CMS}} = \\sum_{i=1}^{N} \\Delta_i \\cdot \\mathbb{E}^{T_i} \\left[ \\text{CMS}_{n,N}(T_i) \\right] \\cdot DF(0, T_i)\n",
    "$$\n",
    "\n",
    "**Where:**\n",
    "\n",
    "- $ T_i $: payment dates (e.g., every 0.5 years)\n",
    "- $ \\Delta_i $: accrual factor for each period (e.g., 0.5 for semiannual)\n",
    "- $ \\text{CMS}_{n,N}(T_i) $: convexity-adjusted CMS rate observed at time $ T_i $, referencing a swap from $ T_i $ to $ T_i + N $\n",
    "- $ DF(0, T_i) $: discount factor from time 0 to $ T_i $, usually OIS-based\n",
    "- $ \\mathbb{E}^{T_i}[\\cdot] $: expectation under the $ T_i $ -forward measure, computed via static replication\n"
   ]
  },
  {
   "cell_type": "code",
   "execution_count": 15,
   "metadata": {
    "id": "iyoDOM2vdkWL"
   },
   "outputs": [],
   "source": [
    "def present_value_cms(cms_tenor, leg_years, delta):\n",
    "    num_payments = int(leg_years / delta)\n",
    "    pv = 0.0\n",
    "    for i in range(1, num_payments+1):\n",
    "        fixing_time = i * delta\n",
    "        discount = ois_df(fixing_time)\n",
    "        cms_rt = cms_rate(fixing_time, cms_tenor, delta)\n",
    "        pv += delta * discount * cms_rt\n",
    "    return pv\n"
   ]
  },
  {
   "cell_type": "markdown",
   "metadata": {
    "id": "plzcMeAZTohO"
   },
   "source": [
    "# Question 1:\n",
    "### Calculate PV of\n",
    "> a leg receiving CMS10y semi-annually over the next 5 years \\\n",
    "> a leg receiving CMS2y quarterly over 10 years"
   ]
  },
  {
   "cell_type": "code",
   "execution_count": 16,
   "metadata": {
    "id": "QcOYDCuwdmXQ"
   },
   "outputs": [
    {
     "name": "stdout",
     "output_type": "stream",
     "text": [
      "PV of receiving CMS10y semi-annually over 5y: 0.20432049389456095\n",
      "PV of receiving CMS2y quarterly over 10y: 0.38360749490368895\n"
     ]
    }
   ],
   "source": [
    "print(\"PV of receiving CMS10y semi-annually over 5y:\", present_value_cms(10, 5, 0.5))\n",
    "print(\"PV of receiving CMS2y quarterly over 10y:\", present_value_cms(2, 10, 0.25))\n"
   ]
  },
  {
   "cell_type": "markdown",
   "metadata": {
    "id": "I5E_v7OPN7Bg"
   },
   "source": [
    "# Question 2:\n",
    "### Compare the forward swap rates with the CMS rate"
   ]
  },
  {
   "cell_type": "code",
   "execution_count": 17,
   "metadata": {
    "id": "0M7xkNAIdpJ-"
   },
   "outputs": [
    {
     "name": "stdout",
     "output_type": "stream",
     "text": [
      "   Expiry x Tenor  CMS_rate  Forward_Swap_rate      diff\n",
      "0           1 x 1  0.032146           0.032007  0.000139\n",
      "1           1 x 2  0.033398           0.033259  0.000139\n",
      "2           1 x 3  0.034147           0.034011  0.000136\n",
      "3           1 x 5  0.035382           0.035255  0.000127\n",
      "4          1 x 10  0.038580           0.038428  0.000152\n",
      "5           5 x 1  0.040536           0.039274  0.001262\n",
      "6           5 x 2  0.041207           0.040075  0.001132\n",
      "7           5 x 3  0.041155           0.040072  0.001083\n",
      "8           5 x 5  0.042189           0.041093  0.001096\n",
      "9          5 x 10  0.044964           0.043634  0.001330\n",
      "10         10 x 1  0.043862           0.042189  0.001673\n",
      "11         10 x 2  0.044625           0.043116  0.001509\n",
      "12         10 x 3  0.045624           0.044097  0.001527\n",
      "13         10 x 5  0.047951           0.046249  0.001702\n",
      "14        10 x 10  0.056110           0.053458  0.002652\n"
     ]
    }
   ],
   "source": [
    "# Build a comparison table for different forward start dates and tenors\n",
    "fwd_starts = [1, 5, 10]\n",
    "swap_tenors = [1, 2, 3, 5, 10]\n",
    "results = []\n",
    "\n",
    "for start in fwd_starts:\n",
    "    for ten in swap_tenors:\n",
    "        cms_rt = cms_rate(start, ten, 0.5)\n",
    "        fwd_rt = forward_swap(start, ten, 0.5)\n",
    "        results.append({\n",
    "            \"Expiry x Tenor\": f\"{start} x {ten}\",\n",
    "            \"CMS_rate\": round(cms_rt, 6),\n",
    "            \"Forward_Swap_rate\": round(fwd_rt, 6)\n",
    "        })\n",
    "\n",
    "df_results = pd.DataFrame(results)\n",
    "df_results['diff'] = df_results['CMS_rate'] - df_results['Forward_Swap_rate']\n",
    "print(df_results)\n"
   ]
  },
  {
   "cell_type": "code",
   "execution_count": 18,
   "metadata": {
    "id": "ZzmhY7uLdsN_"
   },
   "outputs": [
    {
     "data": {
      "image/png": "[encoded data removed]",
      "text/plain": [
       "<Figure size 800x400 with 1 Axes>"
      ]
     },
     "metadata": {},
     "output_type": "display_data"
    },
    {
     "data": {
      "image/png": "[encoded data removed]",
      "text/plain": [
       "<Figure size 800x400 with 1 Axes>"
      ]
     },
     "metadata": {},
     "output_type": "display_data"
    },
    {
     "data": {
      "image/png": "[encoded data removed]",
      "text/plain": [
       "<Figure size 800x400 with 1 Axes>"
      ]
     },
     "metadata": {},
     "output_type": "display_data"
    }
   ],
   "source": [
    "# Plot rates per expiry bucket\n",
    "for idx, bucket in enumerate(['Maturity = 1 year', 'Maturity = 5 years', 'Maturity = 10 years']):\n",
    "    start_idx = idx * len(swap_tenors)\n",
    "    end_idx = (idx+1) * len(swap_tenors)\n",
    "    plt.figure(figsize=(8,4))\n",
    "    plt.plot(swap_tenors, df_results[\"CMS_rate\"].iloc[start_idx:end_idx], '-o', color='red', label=\"CMS Rate\")\n",
    "    plt.plot(swap_tenors, df_results[\"Forward_Swap_rate\"].iloc[start_idx:end_idx], '-s', color='blue', label=\"Forward Swap Rate\")\n",
    "    plt.title(bucket)\n",
    "    plt.xlabel(\"Swap Tenor (Years)\")\n",
    "    plt.ylabel(\"Rate\")\n",
    "    plt.legend()\n",
    "    plt.grid(True)\n",
    "    plt.tight_layout()\n",
    "    plt.show()\n"
   ]
  },
  {
   "cell_type": "markdown",
   "metadata": {
    "id": "-_gl-wFNptWI"
   },
   "source": [
    "### Additional Analysis"
   ]
  },
  {
   "cell_type": "code",
   "execution_count": 19,
   "metadata": {
    "id": "GTG9sFkrnbW3"
   },
   "outputs": [
    {
     "data": {
      "image/png": "[encoded data removed]",
      "text/plain": [
       "<Figure size 1000x500 with 1 Axes>"
      ]
     },
     "metadata": {},
     "output_type": "display_data"
    }
   ],
   "source": [
    "# Plot convexity premium\n",
    "df_results[\"Convexity_Premium\"] = df_results[\"CMS_rate\"] - df_results[\"Forward_Swap_rate\"]\n",
    "df_results.plot(x=\"Expiry x Tenor\", y=\"Convexity_Premium\", kind=\"bar\", figsize=(10,5), grid=True)\n",
    "plt.show()"
   ]
  },
  {
   "cell_type": "code",
   "execution_count": null,
   "metadata": {},
   "outputs": [],
   "source": []
  }
 ],
 "metadata": {
  "colab": {
   "provenance": []
  },
  "kernelspec": {
   "display_name": "Python 3 (ipykernel)",
   "language": "python",
   "name": "python3"
  },
  "language_info": {
   "codemirror_mode": {
    "name": "ipython",
    "version": 3
   },
   "file_extension": ".py",
   "mimetype": "text/x-python",
   "name": "python",
   "nbconvert_exporter": "python",
   "pygments_lexer": "ipython3",
   "version": "3.12.9"
  }
 },
 "nbformat": 4,
 "nbformat_minor": 4
}
